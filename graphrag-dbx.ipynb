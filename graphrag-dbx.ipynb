{
 "cells": [
  {
   "cell_type": "markdown",
   "metadata": {},
   "source": [
    "# Building GraphRAG on AzureDBX "
   ]
  },
  {
   "cell_type": "markdown",
   "metadata": {},
   "source": [
    "## Setting up the environment \n",
    "\n",
    "Navigate to your Azure DBX workspace. \n",
    "\n",
    "Under user settings, developer menu choose manage access tokens and create an access one...\n",
    "\n",
    "![AccessToken](./images/p1.png)\n"
   ]
  },
  {
   "cell_type": "markdown",
   "metadata": {},
   "source": [
    "## Workspace URL & Token \n",
    "\n",
    "Create a .env file in the root directory of the project and add the below content. \n",
    "\n",
    "Locate the Workspace URL from Azure Portal \n",
    "![WorkspaceURL](./images/p2.png)\n",
    "\n",
    "\n",
    "\n",
    "\n",
    "ADBX_URL=\"workspace URL\" \\ \n",
    "ADBX_TOKEN=\"your Azure Databricks access token\"\n",
    "\n",
    "We expect to see the below upon successful connection to the workspace.\n",
    "    \n",
    "\n",
    "Connection Successful! \\\n",
    "Workspace Root Contents: ['/Shared', '/Users', '/Repos']\n"
   ]
  },
  {
   "cell_type": "code",
   "execution_count": 6,
   "metadata": {},
   "outputs": [
    {
     "name": "stdout",
     "output_type": "stream",
     "text": [
      "Connection Successful!\n",
      "Workspace Root Contents: ['/Shared', '/Users', '/Repos']\n"
     ]
    }
   ],
   "source": [
    "import os\n",
    "import dotenv\n",
    "from databricks.sdk import WorkspaceClient\n",
    "\n",
    "# Load environment variables from .env file\n",
    "dotenv.load_dotenv()\n",
    "\n",
    "# Fetch Databricks URL and Token from environment variables\n",
    "AZURE_DATABRICKS_URL = os.getenv(\"ADBX_URL\")\n",
    "AZURE_DATABRICKS_TOKEN = os.getenv(\"ADBX_TOKEN\")\n",
    "\n",
    "# Initialize the Databricks SDK Workspace Client\n",
    "try:\n",
    "    # Create a WorkspaceClient instance\n",
    "    w = WorkspaceClient(\n",
    "        host=AZURE_DATABRICKS_URL,\n",
    "        token=AZURE_DATABRICKS_TOKEN\n",
    "    )\n",
    "    \n",
    "    # Test the connection by listing the root workspace contents\n",
    "    workspace_root = w.workspace.list(path=\"/\")\n",
    "    print(\"Connection Successful!\")\n",
    "    print(\"Workspace Root Contents:\", [item.path for item in workspace_root])  # Use .path attribute\n",
    "except Exception as e:\n",
    "    print(\"Connection Failed! Please check your URL or token.\")\n",
    "    print(\"Error:\", e)\n"
   ]
  }
 ],
 "metadata": {
  "kernelspec": {
   "display_name": "venv",
   "language": "python",
   "name": "python3"
  },
  "language_info": {
   "codemirror_mode": {
    "name": "ipython",
    "version": 3
   },
   "file_extension": ".py",
   "mimetype": "text/x-python",
   "name": "python",
   "nbconvert_exporter": "python",
   "pygments_lexer": "ipython3",
   "version": "3.12.7"
  }
 },
 "nbformat": 4,
 "nbformat_minor": 2
}
