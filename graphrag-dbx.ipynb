{
 "cells": [
  {
   "cell_type": "markdown",
   "metadata": {},
   "source": [
    "# Building GraphRAG on AzureDBX "
   ]
  },
  {
   "cell_type": "markdown",
   "metadata": {},
   "source": [
    "## Setting up the environment \n",
    "\n",
    "Navigate to your Azure DBX workspace. \\\n",
    "\n",
    "Under user settings, developer menu choose manage access tokens and create an access one...\n",
    "\n",
    "![AccessToken](./images/p1.png)"
   ]
  },
  {
   "cell_type": "code",
   "execution_count": null,
   "metadata": {},
   "outputs": [
    {
     "ename": "ImportError",
     "evalue": "cannot import name 'AzureDatabricksAPI' from 'azure_databricks_api' (/Users/ozgurguler/Developer/Projects/graphrag-dbx/graphrag-dbx/venv/lib/python3.12/site-packages/azure_databricks_api/__init__.py)",
     "output_type": "error",
     "traceback": [
      "\u001b[0;31m---------------------------------------------------------------------------\u001b[0m",
      "\u001b[0;31mImportError\u001b[0m                               Traceback (most recent call last)",
      "Cell \u001b[0;32mIn[2], line 2\u001b[0m\n\u001b[1;32m      1\u001b[0m \u001b[38;5;28;01mimport\u001b[39;00m \u001b[38;5;21;01mdotenv\u001b[39;00m\n\u001b[0;32m----> 2\u001b[0m \u001b[38;5;28;01mfrom\u001b[39;00m \u001b[38;5;21;01mazure_databricks_api\u001b[39;00m \u001b[38;5;28;01mimport\u001b[39;00m AzureDatabricksAPI\n\u001b[1;32m      4\u001b[0m dotenv\u001b[38;5;241m.\u001b[39mload_dotenv()\n\u001b[1;32m      6\u001b[0m DATABRICKS_URL \u001b[38;5;241m=\u001b[39m os\u001b[38;5;241m.\u001b[39mgetenv(\u001b[38;5;124m\"\u001b[39m\u001b[38;5;124mADBX_URL\u001b[39m\u001b[38;5;124m\"\u001b[39m)\n",
      "\u001b[0;31mImportError\u001b[0m: cannot import name 'AzureDatabricksAPI' from 'azure_databricks_api' (/Users/ozgurguler/Developer/Projects/graphrag-dbx/graphrag-dbx/venv/lib/python3.12/site-packages/azure_databricks_api/__init__.py)"
     ]
    }
   ],
   "source": [
    "import dotenv\n",
    "from azure_databricks_api import AzureDatabricksAPI\n",
    "\n",
    "dotenv.load_dotenv()\n",
    "\n",
    "AZURE_DATABRICKS_URL = os.getenv(\"ADBX_URL\")\n",
    "AZURE_DATABRICKS_TOKEN = os.getenv(\"ADBX_TOKEN\")\n",
    "\n",
    "adb = AzureDatabricksAPI(AZURE_DATABRICKS_URL, AZURE_DATABRICKS_TOKEN)\n"
   ]
  }
 ],
 "metadata": {
  "kernelspec": {
   "display_name": "venv",
   "language": "python",
   "name": "python3"
  },
  "language_info": {
   "codemirror_mode": {
    "name": "ipython",
    "version": 3
   },
   "file_extension": ".py",
   "mimetype": "text/x-python",
   "name": "python",
   "nbconvert_exporter": "python",
   "pygments_lexer": "ipython3",
   "version": "3.12.7"
  }
 },
 "nbformat": 4,
 "nbformat_minor": 2
}
